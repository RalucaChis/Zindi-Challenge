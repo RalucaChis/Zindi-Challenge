{
 "cells": [
  {
   "cell_type": "code",
   "execution_count": 127,
   "metadata": {},
   "outputs": [
    {
     "name": "stderr",
     "output_type": "stream",
     "text": [
      "┌ Info: (\"size of the training data-set: \", (13140, 176))\n",
      "└ @ Main In[127]:9\n"
     ]
    }
   ],
   "source": [
    "# reading in the data\n",
    "import CSV, DataFrames\n",
    "using DecisionTree\n",
    "using MLBase\n",
    "using Random\n",
    "using DataFrames\n",
    "\n",
    "train_data = CSV.read(\"Train.csv\", DataFrames.DataFrame, header=true)\n",
    "@info \"size of the training data-set: \", size(train_data);"
   ]
  },
  {
   "cell_type": "code",
   "execution_count": 128,
   "metadata": {},
   "outputs": [],
   "source": [
    "tr(s::String) = (s==\"ok\") ? 1 : ((s==\"low\") ? 0 : 2)\n",
    "# map(tr, String.(train_data[!,:hemoglobin_human]))\n",
    "# equivalent format\n",
    "ch_ldl = map(tr, String.(train_data.cholesterol_ldl_human)) # observe the different syntax of the \n",
    "ch_hdl = map(tr, String.(train_data.hdl_cholesterol_human)) # observe the different syntax of the \n",
    "ch_hgb = map(tr, String.(train_data.hemoglobin_human)) # observe the different syntax of the \n",
    ";"
   ]
  },
  {
   "cell_type": "code",
   "execution_count": 129,
   "metadata": {},
   "outputs": [],
   "source": [
    "# transforming the DATAFRAME into a matrix\n",
    "ids = setdiff(2:172,[171, 172]);\n",
    "x = Matrix( train_data[!,2:173] );"
   ]
  },
  {
   "cell_type": "code",
   "execution_count": 130,
   "metadata": {},
   "outputs": [
    {
     "data": {
      "text/plain": [
       "Matrix{Float64} (alias for Array{Float64, 2})"
      ]
     },
     "execution_count": 130,
     "metadata": {},
     "output_type": "execute_result"
    }
   ],
   "source": [
    "typeof(x)"
   ]
  },
  {
   "cell_type": "code",
   "execution_count": 131,
   "metadata": {},
   "outputs": [
    {
     "data": {
      "text/plain": [
       "(13140, 172)"
      ]
     },
     "execution_count": 131,
     "metadata": {},
     "output_type": "execute_result"
    }
   ],
   "source": [
    "size(x)"
   ]
  },
  {
   "cell_type": "code",
   "execution_count": 132,
   "metadata": {},
   "outputs": [],
   "source": [
    "# We will train 3 different models, one for hdl cholesterol, ldl cholesterol and hemoglobin\n",
    "y_hgb = ch_hgb; \n",
    "y_hdl = ch_hdl;\n",
    "y_ldl = ch_ldl;"
   ]
  },
  {
   "cell_type": "code",
   "execution_count": 133,
   "metadata": {},
   "outputs": [
    {
     "data": {
      "text/plain": [
       "perclass_splits (generic function with 2 methods)"
      ]
     },
     "execution_count": 133,
     "metadata": {},
     "output_type": "execute_result"
    }
   ],
   "source": [
    "# This function splits the data into training and testing, while making sure data from each class will be added in both sets\n",
    "function perclass_splits(y,at, at2)\n",
    "    uids = unique(y)\n",
    "    keepids = []\n",
    "    for ui in uids\n",
    "        if ui == 1\n",
    "            at = at2\n",
    "        end    \n",
    "        curids = findall(y.==ui)\n",
    "        rowids = randsubseq(curids, at) \n",
    "        push!(keepids,rowids...)\n",
    "    end\n",
    "    return keepids\n",
    "end"
   ]
  },
  {
   "cell_type": "code",
   "execution_count": 145,
   "metadata": {},
   "outputs": [],
   "source": [
    "trainids_hgb = perclass_splits(y_hgb,0.7, 0.2);\n",
    "testids_hgb = setdiff(1:length(y_hgb),trainids_hgb);\n",
    "\n",
    "trainids_hdl = perclass_splits(y_hdl,0.7, 0.4);\n",
    "testids_hdl = setdiff(1:length(y_hdl),trainids_hdl);\n",
    "\n",
    "trainids_ldl = perclass_splits(y_ldl,0.7, 0.6);\n",
    "testids_ldl = setdiff(1:length(y_ldl),trainids_ldl);"
   ]
  },
  {
   "cell_type": "code",
   "execution_count": 146,
   "metadata": {},
   "outputs": [
    {
     "data": {
      "text/plain": [
       "RandomForestClassifier\n",
       "n_trees:             50\n",
       "n_subfeatures:       -1\n",
       "partial_sampling:    0.7\n",
       "max_depth:           -1\n",
       "min_samples_leaf:    1\n",
       "min_samples_split:   2\n",
       "min_purity_increase: 0.0\n",
       "classes:             [0, 1, 2]\n",
       "ensemble:            Ensemble of Decision Trees\n",
       "Trees:      50\n",
       "Avg Leaves: 61.12\n",
       "Avg Depth:  13.62"
      ]
     },
     "execution_count": 146,
     "metadata": {},
     "output_type": "execute_result"
    }
   ],
   "source": [
    "# Training the models\n",
    "\n",
    "model_hgb = RandomForestClassifier(n_trees=50)\n",
    "DecisionTree.fit!(model_hgb, x[trainids_hgb,:], y_hgb[trainids_hgb])"
   ]
  },
  {
   "cell_type": "code",
   "execution_count": 147,
   "metadata": {},
   "outputs": [
    {
     "data": {
      "text/plain": [
       "RandomForestClassifier\n",
       "n_trees:             50\n",
       "n_subfeatures:       -1\n",
       "partial_sampling:    0.7\n",
       "max_depth:           -1\n",
       "min_samples_leaf:    1\n",
       "min_samples_split:   2\n",
       "min_purity_increase: 0.0\n",
       "classes:             [0, 1, 2]\n",
       "ensemble:            Ensemble of Decision Trees\n",
       "Trees:      50\n",
       "Avg Leaves: 214.0\n",
       "Avg Depth:  21.44"
      ]
     },
     "execution_count": 147,
     "metadata": {},
     "output_type": "execute_result"
    }
   ],
   "source": [
    "model_hdl = RandomForestClassifier(n_trees=50)\n",
    "DecisionTree.fit!(model_hdl, x[trainids_hdl,:], y_hdl[trainids_hdl])"
   ]
  },
  {
   "cell_type": "code",
   "execution_count": 148,
   "metadata": {},
   "outputs": [
    {
     "data": {
      "text/plain": [
       "RandomForestClassifier\n",
       "n_trees:             50\n",
       "n_subfeatures:       -1\n",
       "partial_sampling:    0.7\n",
       "max_depth:           -1\n",
       "min_samples_leaf:    1\n",
       "min_samples_split:   2\n",
       "min_purity_increase: 0.0\n",
       "classes:             [0, 1, 2]\n",
       "ensemble:            Ensemble of Decision Trees\n",
       "Trees:      50\n",
       "Avg Leaves: 247.14\n",
       "Avg Depth:  20.46"
      ]
     },
     "execution_count": 148,
     "metadata": {},
     "output_type": "execute_result"
    }
   ],
   "source": [
    "model_ldl = RandomForestClassifier(n_trees=50)\n",
    "DecisionTree.fit!(model_ldl, x[trainids_ldl,:], y_ldl[trainids_ldl])"
   ]
  },
  {
   "cell_type": "code",
   "execution_count": 149,
   "metadata": {},
   "outputs": [
    {
     "data": {
      "text/plain": [
       "findaccuracy (generic function with 1 method)"
      ]
     },
     "execution_count": 149,
     "metadata": {},
     "output_type": "execute_result"
    }
   ],
   "source": [
    "# Method for computing the accuracy of a model\n",
    "\n",
    "findaccuracy(predictedvals,groundtruthvals) = sum(predictedvals.==groundtruthvals)/length(groundtruthvals)"
   ]
  },
  {
   "cell_type": "code",
   "execution_count": 150,
   "metadata": {},
   "outputs": [
    {
     "data": {
      "text/plain": [
       "0.9782793464916423"
      ]
     },
     "execution_count": 150,
     "metadata": {},
     "output_type": "execute_result"
    }
   ],
   "source": [
    "# Accuracy for HGB\n",
    "\n",
    "q = x[testids_hgb,:];\n",
    "predictions_RF = DecisionTree.predict(model_hgb, q)\n",
    "findaccuracy(predictions_RF,y_hgb[testids_hgb])"
   ]
  },
  {
   "cell_type": "code",
   "execution_count": 151,
   "metadata": {},
   "outputs": [
    {
     "data": {
      "text/plain": [
       "0.9889516957862282"
      ]
     },
     "execution_count": 151,
     "metadata": {},
     "output_type": "execute_result"
    }
   ],
   "source": [
    "# Accuracy for HDL\n",
    "\n",
    "q = x[testids_hdl,:];\n",
    "predictions_RF = DecisionTree.predict(model_hdl, q)\n",
    "findaccuracy(predictions_RF,y_hdl[testids_hdl])"
   ]
  },
  {
   "cell_type": "code",
   "execution_count": 152,
   "metadata": {},
   "outputs": [
    {
     "data": {
      "text/plain": [
       "0.9951811873554356"
      ]
     },
     "execution_count": 152,
     "metadata": {},
     "output_type": "execute_result"
    }
   ],
   "source": [
    "# Accuracy for LDL\n",
    "\n",
    "q = x[testids_ldl,:];\n",
    "predictions_RF = DecisionTree.predict(model_ldl, q)\n",
    "findaccuracy(predictions_RF,y_ldl[testids_ldl])"
   ]
  },
  {
   "cell_type": "code",
   "execution_count": 142,
   "metadata": {},
   "outputs": [
    {
     "name": "stderr",
     "output_type": "stream",
     "text": [
      "┌ Info: (\"size of the testing data-set: \", (3660, 176))\n",
      "└ @ Main In[142]:2\n"
     ]
    }
   ],
   "source": [
    "test_data = CSV.read(\"Updated_Test.csv\", DataFrames.DataFrame, header=true);\n",
    "@info \"size of the testing data-set: \", size(test_data);\n",
    "\n",
    "ids = setdiff(3:176,[173, 174]);\n",
    "x_test = Matrix( test_data[!,ids] );"
   ]
  },
  {
   "cell_type": "code",
   "execution_count": 143,
   "metadata": {},
   "outputs": [
    {
     "name": "stdout",
     "output_type": "stream",
     "text": [
      "1 1 1 \n",
      "2 1 1 \n",
      "2 1 1 \n",
      "1 1 1 \n",
      "2 1 1 \n",
      "2 1 1 \n",
      "1 1 1 \n",
      "1 0 1 \n",
      "2 2 1 \n",
      "1 1 1 \n",
      "2 1 1 \n",
      "2 1 1 \n",
      "2 1 1 \n",
      "1 1 1 \n",
      "1 1 1 \n",
      "2 1 1 \n",
      "2 1 1 \n",
      "1 1 1 \n",
      "1 1 1 \n",
      "2 1 1 \n",
      "1 1 1 \n",
      "2 2 1 \n",
      "1 2 1 \n",
      "2 1 1 \n",
      "2 1 1 \n",
      "1 1 1 \n",
      "2 0 1 \n",
      "1 1 1 \n",
      "2 2 1 \n",
      "2 1 1 \n",
      "2 2 1 \n",
      "2 1 1 \n",
      "1 1 1 \n",
      "1 1 1 \n",
      "2 1 1 \n",
      "2 1 1 \n",
      "1 1 1 \n",
      "1 1 1 \n",
      "1 1 1 \n",
      "2 2 1 \n",
      "1 1 1 \n",
      "2 1 1 \n",
      "0 1 1 \n",
      "1 1 1 \n",
      "1 1 1 \n",
      "1 1 1 \n",
      "1 1 1 \n",
      "2 1 1 \n",
      "2 1 1 \n",
      "1 1 1 \n",
      "1 0 1 \n",
      "2 1 1 \n",
      "2 1 1 \n",
      "1 1 1 \n",
      "1 1 2 \n",
      "1 1 1 \n",
      "1 1 1 \n",
      "1 1 1 \n",
      "1 0 1 \n",
      "1 1 1 \n",
      "2 1 1 \n"
     ]
    },
    {
     "data": {
      "text/html": [
       "<table class=\"data-frame\"><thead><tr><th></th><th>Reading_ID</th><th>target</th></tr><tr><th></th><th>Any</th><th>Any</th></tr></thead><tbody><p>183 rows × 2 columns</p><tr><th>1</th><td>ID_2982_cholesterol_ldl_human</td><td>ok</td></tr><tr><th>2</th><td>ID_2982_hdl_cholesterol_human</td><td>ok</td></tr><tr><th>3</th><td>ID_2982_hemoglobin(hgb)_human</td><td>ok</td></tr><tr><th>4</th><td>ID_5730_cholesterol_ldl_human</td><td>high</td></tr><tr><th>5</th><td>ID_5730_hdl_cholesterol_human</td><td>ok</td></tr><tr><th>6</th><td>ID_5730_hemoglobin(hgb)_human</td><td>ok</td></tr><tr><th>7</th><td>ID_2517_cholesterol_ldl_human</td><td>high</td></tr><tr><th>8</th><td>ID_2517_hdl_cholesterol_human</td><td>ok</td></tr><tr><th>9</th><td>ID_2517_hemoglobin(hgb)_human</td><td>ok</td></tr><tr><th>10</th><td>ID_3212_cholesterol_ldl_human</td><td>ok</td></tr><tr><th>11</th><td>ID_3212_hdl_cholesterol_human</td><td>ok</td></tr><tr><th>12</th><td>ID_3212_hemoglobin(hgb)_human</td><td>ok</td></tr><tr><th>13</th><td>ID_2495_cholesterol_ldl_human</td><td>high</td></tr><tr><th>14</th><td>ID_2495_hdl_cholesterol_human</td><td>ok</td></tr><tr><th>15</th><td>ID_2495_hemoglobin(hgb)_human</td><td>ok</td></tr><tr><th>16</th><td>ID_5151_cholesterol_ldl_human</td><td>high</td></tr><tr><th>17</th><td>ID_5151_hdl_cholesterol_human</td><td>ok</td></tr><tr><th>18</th><td>ID_5151_hemoglobin(hgb)_human</td><td>ok</td></tr><tr><th>19</th><td>ID_2551_cholesterol_ldl_human</td><td>ok</td></tr><tr><th>20</th><td>ID_2551_hdl_cholesterol_human</td><td>ok</td></tr><tr><th>21</th><td>ID_2551_hemoglobin(hgb)_human</td><td>ok</td></tr><tr><th>22</th><td>ID_2524_cholesterol_ldl_human</td><td>ok</td></tr><tr><th>23</th><td>ID_2524_hdl_cholesterol_human</td><td>low</td></tr><tr><th>24</th><td>ID_2524_hemoglobin(hgb)_human</td><td>ok</td></tr><tr><th>25</th><td>ID_2067_cholesterol_ldl_human</td><td>high</td></tr><tr><th>26</th><td>ID_2067_hdl_cholesterol_human</td><td>high</td></tr><tr><th>27</th><td>ID_2067_hemoglobin(hgb)_human</td><td>ok</td></tr><tr><th>28</th><td>ID_3635_cholesterol_ldl_human</td><td>ok</td></tr><tr><th>29</th><td>ID_3635_hdl_cholesterol_human</td><td>ok</td></tr><tr><th>30</th><td>ID_3635_hemoglobin(hgb)_human</td><td>ok</td></tr><tr><th>&vellip;</th><td>&vellip;</td><td>&vellip;</td></tr></tbody></table>"
      ],
      "text/latex": [
       "\\begin{tabular}{r|cc}\n",
       "\t& Reading\\_ID & target\\\\\n",
       "\t\\hline\n",
       "\t& Any & Any\\\\\n",
       "\t\\hline\n",
       "\t1 & ID\\_2982\\_cholesterol\\_ldl\\_human & ok \\\\\n",
       "\t2 & ID\\_2982\\_hdl\\_cholesterol\\_human & ok \\\\\n",
       "\t3 & ID\\_2982\\_hemoglobin(hgb)\\_human & ok \\\\\n",
       "\t4 & ID\\_5730\\_cholesterol\\_ldl\\_human & high \\\\\n",
       "\t5 & ID\\_5730\\_hdl\\_cholesterol\\_human & ok \\\\\n",
       "\t6 & ID\\_5730\\_hemoglobin(hgb)\\_human & ok \\\\\n",
       "\t7 & ID\\_2517\\_cholesterol\\_ldl\\_human & high \\\\\n",
       "\t8 & ID\\_2517\\_hdl\\_cholesterol\\_human & ok \\\\\n",
       "\t9 & ID\\_2517\\_hemoglobin(hgb)\\_human & ok \\\\\n",
       "\t10 & ID\\_3212\\_cholesterol\\_ldl\\_human & ok \\\\\n",
       "\t11 & ID\\_3212\\_hdl\\_cholesterol\\_human & ok \\\\\n",
       "\t12 & ID\\_3212\\_hemoglobin(hgb)\\_human & ok \\\\\n",
       "\t13 & ID\\_2495\\_cholesterol\\_ldl\\_human & high \\\\\n",
       "\t14 & ID\\_2495\\_hdl\\_cholesterol\\_human & ok \\\\\n",
       "\t15 & ID\\_2495\\_hemoglobin(hgb)\\_human & ok \\\\\n",
       "\t16 & ID\\_5151\\_cholesterol\\_ldl\\_human & high \\\\\n",
       "\t17 & ID\\_5151\\_hdl\\_cholesterol\\_human & ok \\\\\n",
       "\t18 & ID\\_5151\\_hemoglobin(hgb)\\_human & ok \\\\\n",
       "\t19 & ID\\_2551\\_cholesterol\\_ldl\\_human & ok \\\\\n",
       "\t20 & ID\\_2551\\_hdl\\_cholesterol\\_human & ok \\\\\n",
       "\t21 & ID\\_2551\\_hemoglobin(hgb)\\_human & ok \\\\\n",
       "\t22 & ID\\_2524\\_cholesterol\\_ldl\\_human & ok \\\\\n",
       "\t23 & ID\\_2524\\_hdl\\_cholesterol\\_human & low \\\\\n",
       "\t24 & ID\\_2524\\_hemoglobin(hgb)\\_human & ok \\\\\n",
       "\t25 & ID\\_2067\\_cholesterol\\_ldl\\_human & high \\\\\n",
       "\t26 & ID\\_2067\\_hdl\\_cholesterol\\_human & high \\\\\n",
       "\t27 & ID\\_2067\\_hemoglobin(hgb)\\_human & ok \\\\\n",
       "\t28 & ID\\_3635\\_cholesterol\\_ldl\\_human & ok \\\\\n",
       "\t29 & ID\\_3635\\_hdl\\_cholesterol\\_human & ok \\\\\n",
       "\t30 & ID\\_3635\\_hemoglobin(hgb)\\_human & ok \\\\\n",
       "\t$\\dots$ & $\\dots$ & $\\dots$ \\\\\n",
       "\\end{tabular}\n"
      ],
      "text/plain": [
       "\u001b[1m183×2 DataFrame\u001b[0m\n",
       "\u001b[1m Row \u001b[0m│\u001b[1m Reading_ID                    \u001b[0m\u001b[1m target \u001b[0m\n",
       "\u001b[1m     \u001b[0m│\u001b[90m Any                           \u001b[0m\u001b[90m Any    \u001b[0m\n",
       "─────┼───────────────────────────────────────\n",
       "   1 │ ID_2982_cholesterol_ldl_human  ok\n",
       "   2 │ ID_2982_hdl_cholesterol_human  ok\n",
       "   3 │ ID_2982_hemoglobin(hgb)_human  ok\n",
       "   4 │ ID_5730_cholesterol_ldl_human  high\n",
       "   5 │ ID_5730_hdl_cholesterol_human  ok\n",
       "   6 │ ID_5730_hemoglobin(hgb)_human  ok\n",
       "   7 │ ID_2517_cholesterol_ldl_human  high\n",
       "   8 │ ID_2517_hdl_cholesterol_human  ok\n",
       "   9 │ ID_2517_hemoglobin(hgb)_human  ok\n",
       "  10 │ ID_3212_cholesterol_ldl_human  ok\n",
       "  11 │ ID_3212_hdl_cholesterol_human  ok\n",
       "  ⋮  │               ⋮                  ⋮\n",
       " 174 │ ID_3688_hemoglobin(hgb)_human  ok\n",
       " 175 │ ID_3594_cholesterol_ldl_human  ok\n",
       " 176 │ ID_3594_hdl_cholesterol_human  low\n",
       " 177 │ ID_3594_hemoglobin(hgb)_human  ok\n",
       " 178 │ ID_2441_cholesterol_ldl_human  ok\n",
       " 179 │ ID_2441_hdl_cholesterol_human  ok\n",
       " 180 │ ID_2441_hemoglobin(hgb)_human  ok\n",
       " 181 │ ID_3637_cholesterol_ldl_human  high\n",
       " 182 │ ID_3637_hdl_cholesterol_human  ok\n",
       " 183 │ ID_3637_hemoglobin(hgb)_human  ok\n",
       "\u001b[31m                             162 rows omitted\u001b[0m"
      ]
     },
     "execution_count": 143,
     "metadata": {},
     "output_type": "execute_result"
    }
   ],
   "source": [
    "# Aggregating the predictions\n",
    "\n",
    "function filter(x)\n",
    "    c1 = 0;\n",
    "    c2 = 0;\n",
    "    c0 = 0;\n",
    "    for element in x\n",
    "        if element == 1\n",
    "            c1 += 1\n",
    "        elseif element == 2\n",
    "            c2 += 1\n",
    "        else\n",
    "            c0 += 1\n",
    "        end\n",
    "    end    \n",
    "    \n",
    "    maximum = max(c1,c2,c0)\n",
    "    if c1 == maximum\n",
    "        return 1;\n",
    "    elseif c2 == maximum\n",
    "        return 2;\n",
    "    end\n",
    "    return 0;\n",
    "end\n",
    "\n",
    "function result(x)\n",
    "    if x == 0\n",
    "        return \"low\"\n",
    "    elseif x == 2\n",
    "        return \"high\"\n",
    "    end\n",
    "    return \"ok\";\n",
    "end\n",
    "\n",
    "df = DataFrame(Reading_ID = [], target = [])\n",
    "for id in unique(test_data[:,2])\n",
    "    donation_data = test_data[test_data.donation_id .== id, :]\n",
    "    x_test = Matrix( donation_data[!,ids] )\n",
    "    ldl_test = DecisionTree.predict(model_ldl, x_test);\n",
    "    hdl_test = DecisionTree.predict(model_hdl, x_test);\n",
    "    hgb_test = DecisionTree.predict(model_hgb, x_test);\n",
    "    count_ldl = filter(ldl_test)\n",
    "    count_hdl = filter(hdl_test)\n",
    "    count_hgb = filter(hgb_test)\n",
    "    \n",
    "    #print(result(count_ldl))\n",
    "    print(count_ldl)\n",
    "    push!(df, [id * \"_cholesterol_ldl_human\", result(count_ldl)])\n",
    "    print(\" \")\n",
    "    #print(result(count_hdl))\n",
    "    print(count_hdl)\n",
    "    push!(df, [id * \"_hdl_cholesterol_human\", result(count_hdl)])\n",
    "    print(\" \")\n",
    "    #print(result(count_hgb))\n",
    "    print(count_hgb)\n",
    "    push!(df, [id * \"_hemoglobin(hgb)_human\", result(count_hgb)])\n",
    "    println(\" \")\n",
    "end\n",
    "df"
   ]
  },
  {
   "cell_type": "code",
   "execution_count": 144,
   "metadata": {},
   "outputs": [
    {
     "data": {
      "text/plain": [
       "\"./Submit-best3.csv\""
      ]
     },
     "execution_count": 144,
     "metadata": {},
     "output_type": "execute_result"
    }
   ],
   "source": [
    "CSV.write(\"./Submit-best3.csv\", df)"
   ]
  },
  {
   "cell_type": "code",
   "execution_count": null,
   "metadata": {},
   "outputs": [],
   "source": []
  }
 ],
 "metadata": {
  "@webio": {
   "lastCommId": null,
   "lastKernelId": null
  },
  "kernelspec": {
   "display_name": "Julia 1.6.3",
   "language": "julia",
   "name": "julia-1.6"
  },
  "language_info": {
   "file_extension": ".jl",
   "mimetype": "application/julia",
   "name": "julia",
   "version": "1.6.3"
  }
 },
 "nbformat": 4,
 "nbformat_minor": 5
}
